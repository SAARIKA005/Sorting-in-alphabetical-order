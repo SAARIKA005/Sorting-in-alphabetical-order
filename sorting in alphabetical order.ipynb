{
  "nbformat": 4,
  "nbformat_minor": 0,
  "metadata": {
    "colab": {
      "name": "Untitled38.ipynb",
      "provenance": []
    },
    "kernelspec": {
      "name": "python3",
      "display_name": "Python 3"
    },
    "language_info": {
      "name": "python"
    }
  },
  "cells": [
    {
      "cell_type": "code",
      "source": [
        "my_str = input(\"Enter a string: \")  \n",
        "# breakdown the string into a list of words  \n",
        "words = my_str.split()  \n",
        "# sort the list  \n",
        "words.sort()  \n",
        "# display the sorted words  \n",
        "for word in words:  \n",
        "   print(word)  "
      ],
      "metadata": {
        "id": "MJpsyG-v9ZWn"
      },
      "execution_count": null,
      "outputs": []
    }
  ]
}